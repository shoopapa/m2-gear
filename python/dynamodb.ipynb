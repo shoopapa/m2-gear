{
 "cells": [
  {
   "cell_type": "code",
   "execution_count": 157,
   "metadata": {},
   "outputs": [],
   "source": [
    "import json\n",
    "from boto3.dynamodb.types import TypeDeserializer\n",
    "\n",
    "def ddb_deserialize(r, type_deserializer = TypeDeserializer()):\n",
    "  return type_deserializer.deserialize({\"M\": r})"
   ]
  },
  {
   "cell_type": "code",
   "execution_count": 162,
   "metadata": {},
   "outputs": [],
   "source": [
    "import boto3\n",
    "import pandas\n",
    "\n",
    "def ddb_query(query):\n",
    "  client = boto3.client('dynamodb')\n",
    "  items = []\n",
    "  resp = client.execute_statement(Statement=query, Limit=1000)\n",
    "  items.extend(resp['Items'])\n",
    "  while 'LastEvaluatedKey' in resp:\n",
    "    resp = client.execute_statement(Statement=query,Limit=1000,NextToken=resp[\"NextToken\"])\n",
    "    items.extend(resp['Items'])\n",
    "\n",
    "  items = [ ddb_deserialize(r) for r in items ]\n",
    "  return items\n",
    "\n",
    "def query_sessions_with_sections(query, sectionTable=\"SessionSection-e3tq3jp6jjh4xjjpvydbqj64e4-dev\"):\n",
    "  \n",
    "  sessions = ddb_query(query)\n",
    "  sessions_df = pandas.DataFrame(sessions)\n",
    "\n",
    "  sections_query= f\"\"\"SELECT * FROM \"{sectionTable}\" WHERE sessionID in {list(sessions_df['id'])} \"\"\"\n",
    "  sections = ddb_query(sections_query)\n",
    "  sections_df = pandas.DataFrame(sections)\n",
    "\n",
    "  sections_df  = (sections_df.groupby(['sessionID'])\n",
    "        .agg({'start': lambda x: x.tolist(),'end': lambda x: x.tolist(),})\n",
    "        .reset_index())\n",
    "\n",
    "  sessions_df = sessions_df.set_index('id').join(sections_df.set_index('sessionID'), rsuffix='-section').explode(['quaternionTimestamp','linearAccerationTimestamp', 'quaternionW',\t'quaternionX',\t'quaternionY','quaternionZ', 'linearAccerationX', 'linearAccerationZ', 'linearAccerationY',\t\t])\n",
    "  sessions_df['isInSection'] = None\n",
    "\n",
    "  def gen_isInSection(row):\n",
    "    row['isInSection'] = False\n",
    "    for i in range(len(row['start'])):\n",
    "      if row['linearAccerationTimestamp'] > row['start'][i] and row['linearAccerationTimestamp'] < row['end'][i]:\n",
    "        row['isInSection'] = True\n",
    "      \n",
    "  sessions_df.apply(gen_isInSection, axis=1)\n",
    "  return sessions_df\n"
   ]
  },
  {
   "cell_type": "code",
   "execution_count": 228,
   "metadata": {},
   "outputs": [
    {
     "ename": "NameError",
     "evalue": "name 'query_sessions_with_sections' is not defined",
     "output_type": "error",
     "traceback": [
      "\u001b[0;31m---------------------------------------------------------------------------\u001b[0m",
      "\u001b[0;31mNameError\u001b[0m                                 Traceback (most recent call last)",
      "\u001b[0;32m/var/folders/yn/kwghd6_j7kj3xv7718v6lfd40000gn/T/ipykernel_73249/1371811606.py\u001b[0m in \u001b[0;36m<module>\u001b[0;34m\u001b[0m\n\u001b[1;32m      1\u001b[0m \u001b[0mquery\u001b[0m\u001b[0;34m=\u001b[0m \u001b[0;34m\"\"\"SELECT * FROM \"Session-e3tq3jp6jjh4xjjpvydbqj64e4-dev\" WHERE CONTAINS(\"name\", '3 rotations')\"\"\"\u001b[0m\u001b[0;34m\u001b[0m\u001b[0;34m\u001b[0m\u001b[0m\n\u001b[1;32m      2\u001b[0m \u001b[0;34m\u001b[0m\u001b[0m\n\u001b[0;32m----> 3\u001b[0;31m \u001b[0mdf\u001b[0m \u001b[0;34m=\u001b[0m \u001b[0mquery_sessions_with_sections\u001b[0m\u001b[0;34m(\u001b[0m\u001b[0mquery\u001b[0m\u001b[0;34m)\u001b[0m\u001b[0;34m\u001b[0m\u001b[0;34m\u001b[0m\u001b[0m\n\u001b[0m\u001b[1;32m      4\u001b[0m \u001b[0;34m\u001b[0m\u001b[0m\n\u001b[1;32m      5\u001b[0m \u001b[0mdf\u001b[0m\u001b[0;34m\u001b[0m\u001b[0;34m\u001b[0m\u001b[0m\n",
      "\u001b[0;31mNameError\u001b[0m: name 'query_sessions_with_sections' is not defined"
     ]
    }
   ],
   "source": [
    "\n",
    "query= \"\"\"SELECT * FROM \"Session-e3tq3jp6jjh4xjjpvydbqj64e4-dev\" WHERE CONTAINS(\"name\", '3 rotations')\"\"\"\n",
    "\n",
    "df = query_sessions_with_sections(query)\n",
    "\n",
    "df\n"
   ]
  }
 ],
 "metadata": {
  "kernelspec": {
   "display_name": "base",
   "language": "python",
   "name": "python3"
  },
  "language_info": {
   "codemirror_mode": {
    "name": "ipython",
    "version": 3
   },
   "file_extension": ".py",
   "mimetype": "text/x-python",
   "name": "python",
   "nbconvert_exporter": "python",
   "pygments_lexer": "ipython3",
   "version": "3.9.7"
  },
  "orig_nbformat": 4,
  "vscode": {
   "interpreter": {
    "hash": "3067ead486e059ec00ffe7555bdb889e6e264a24dc711bf108106cc7baee8d5d"
   }
  }
 },
 "nbformat": 4,
 "nbformat_minor": 2
}
